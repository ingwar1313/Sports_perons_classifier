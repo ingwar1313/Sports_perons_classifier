{
 "cells": [
  {
   "cell_type": "code",
   "execution_count": 2,
   "id": "293ed1e3-4ac1-4cec-a709-5e3e92b12086",
   "metadata": {},
   "outputs": [],
   "source": [
    "import json\n",
    "\n",
    "with open(\"./artifacts/class_dictionary.json\", \"r\") as f:\n",
    "        __class_name_to_number = json.load(f)"
   ]
  },
  {
   "cell_type": "code",
   "execution_count": 3,
   "id": "710041a5-f9ec-48c5-9cd4-984736c73b9a",
   "metadata": {},
   "outputs": [
    {
     "data": {
      "text/plain": [
       "{'ekaterina gamova': 0,\n",
       " 'fedor yemelyanenko': 1,\n",
       " 'kylian mbappe': 2,\n",
       " 'maria sharapova': 3,\n",
       " 'yusuf dikec': 4}"
      ]
     },
     "execution_count": 3,
     "metadata": {},
     "output_type": "execute_result"
    }
   ],
   "source": [
    "__class_name_to_number"
   ]
  },
  {
   "cell_type": "code",
   "execution_count": null,
   "id": "52564d24-6ce1-4db0-8883-69c404a543b3",
   "metadata": {},
   "outputs": [],
   "source": []
  }
 ],
 "metadata": {
  "kernelspec": {
   "display_name": "Python 3 (ipykernel)",
   "language": "python",
   "name": "python3"
  },
  "language_info": {
   "codemirror_mode": {
    "name": "ipython",
    "version": 3
   },
   "file_extension": ".py",
   "mimetype": "text/x-python",
   "name": "python",
   "nbconvert_exporter": "python",
   "pygments_lexer": "ipython3",
   "version": "3.12.7"
  }
 },
 "nbformat": 4,
 "nbformat_minor": 5
}
